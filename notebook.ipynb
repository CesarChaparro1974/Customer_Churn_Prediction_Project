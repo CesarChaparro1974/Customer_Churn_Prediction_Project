{
 "cells": [
  {
   "cell_type": "markdown",
   "metadata": {},
   "source": [
    "### Customer Churn Prediction Project"
   ]
  },
  {
   "cell_type": "markdown",
   "metadata": {},
   "source": [
    "#### Objective:\n",
    "#### This project aims to develop a machine learning model to predict whether a customer will \"churn\" (i.e., leave their telecommunications provider).\n",
    "\n",
    "#### The goal is to preprocess this data, engineer features, build a machine learning model, and evaluate its performance using accuracy. We will follow several steps, including data preprocessing, feature selection, model training, and testing."
   ]
  },
  {
   "cell_type": "markdown",
   "metadata": {},
   "source": [
    "***"
   ]
  },
  {
   "cell_type": "markdown",
   "metadata": {},
   "source": [
    "##### File descriptions:\n",
    "* train.csv - the training set.<br>\n",
    "Contains 4250 lines with 20 columns. 3652 samples (85.93%) belong to class churn=no and 598 samples (14.07%) belong to class churn=yes<br>\n",
    "* test.csv - the test set.<br>\n",
    "Contains 750 lines with 20 columns: the index of each sample and the 19 features (missing the target variable \"churn\").\n",
    "sampleSubmission.csv - a sample submission file in the correct format"
   ]
  },
  {
   "cell_type": "markdown",
   "metadata": {},
   "source": [
    "##### The training dataset contains 4250 samples. Each sample contains 19 features and 1 boolean variable \"churn\" which indicates the class of the sample. "
   ]
  },
  {
   "cell_type": "markdown",
   "metadata": {},
   "source": [
    "##### Data fields:\n",
    "* **state**:<br>\n",
    "string. 2-letter code of the US state of customer residence\n",
    "* **account_length**:<br>\n",
    "numerical. Number of months the customer has been with the current telco provider\n",
    "* **area_code**:<br>\n",
    "string=\"area_code_AAA\" where AAA = 3 digit area code.\n",
    "* **international_plan**:<br>\n",
    "(yes/no). The customer has international plan.\n",
    "* **voice_mail_plan**:<br>\n",
    "(yes/no). The customer has voice mail plan.\n",
    "* **number_vmail_messages**:<br>\n",
    "numerical. Number of voice-mail messages.\n",
    "* **total_day_minutes**:<br>\n",
    "numerical. Total minutes of day calls.\n",
    "* **total_day_calls**:<br>\n",
    "numerical. Total number of day calls.\n",
    "* **total_day_charge**:<br>\n",
    "numerical. Total charge of day calls.\n",
    "* **total_eve_minutes**:<br>\n",
    "numerical. Total minutes of evening calls.\n",
    "* **total_eve_calls**:<br>\n",
    "numerical. Total number of evening calls.\n",
    "* **total_eve_charge**:<br>\n",
    "numerical. Total charge of evening calls.\n",
    "* **total_night_minutes**:<br>\n",
    "numerical. Total minutes of night calls.\n",
    "* **total_night_calls**:<br>\n",
    "numerical. Total number of night calls.\n",
    "* **total_night_charge**:<br>\n",
    "numerical. Total charge of night calls.\n",
    "* **total_intl_minutes**:<br>\n",
    "numerical. Total minutes of international calls.\n",
    "* **total_intl_calls**:<br>\n",
    "numerical. Total number of international calls.\n",
    "* **total_intl_charge**:<br>\n",
    "numerical. Total charge of international calls\n",
    "* **number_customer_service_calls**:<br>\n",
    "numerical. Number of calls to customer service\n",
    "* **churn**:<br>\n",
    "(yes/no). Customer churn - target variable."
   ]
  },
  {
   "cell_type": "markdown",
   "metadata": {},
   "source": [
    "***"
   ]
  },
  {
   "cell_type": "markdown",
   "metadata": {},
   "source": [
    "##### 1. Understanding the Problem"
   ]
  },
  {
   "cell_type": "markdown",
   "metadata": {},
   "source": [
    "##### Problem Statement: Predict customer churn based on a set of customer features.\n",
    "##### Target Variable: churn (yes/no).\n",
    "##### Input Features: 19 different customer metrics, including usage statistics, service plan details, and account information."
   ]
  },
  {
   "cell_type": "markdown",
   "metadata": {},
   "source": [
    "***"
   ]
  },
  {
   "cell_type": "markdown",
   "metadata": {},
   "source": [
    "##### 2. Data Collection and Exploration"
   ]
  },
  {
   "cell_type": "markdown",
   "metadata": {},
   "source": [
    "##### Dataset: The dataset contains 4,250 samples with 19 features and a target variable churn.\n",
    "##### Initial Exploration:\n",
    "##### Inspect the dataset for missing values, duplicates, and summary statistics.\n",
    "##### Understand the distribution of the target variable (churn)."
   ]
  },
  {
   "cell_type": "code",
   "execution_count": 231,
   "metadata": {},
   "outputs": [],
   "source": [
    "# import libraries.\n",
    "import pandas as pd\n",
    "import matplotlib.pyplot as plt\n",
    "import seaborn as sns\n",
    "import numpy as np\n",
    "from sklearn.model_selection import train_test_split\n",
    "from sklearn.preprocessing import StandardScaler\n",
    "from sklearn.linear_model import LogisticRegression\n",
    "from sklearn.metrics import accuracy_score, confusion_matrix"
   ]
  },
  {
   "cell_type": "code",
   "execution_count": 232,
   "metadata": {},
   "outputs": [],
   "source": [
    "# load the datasets\n",
    "train_data = pd.read_csv('./Datasets/train.csv')\n",
    "test_data = pd.read_csv('./Datasets/test.csv')\n",
    "submission_template = pd.read_csv('./Datasets/sampleSubmission.csv')"
   ]
  },
  {
   "cell_type": "code",
   "execution_count": 233,
   "metadata": {},
   "outputs": [
    {
     "data": {
      "text/html": [
       "<div>\n",
       "<style scoped>\n",
       "    .dataframe tbody tr th:only-of-type {\n",
       "        vertical-align: middle;\n",
       "    }\n",
       "\n",
       "    .dataframe tbody tr th {\n",
       "        vertical-align: top;\n",
       "    }\n",
       "\n",
       "    .dataframe thead th {\n",
       "        text-align: right;\n",
       "    }\n",
       "</style>\n",
       "<table border=\"1\" class=\"dataframe\">\n",
       "  <thead>\n",
       "    <tr style=\"text-align: right;\">\n",
       "      <th></th>\n",
       "      <th>state</th>\n",
       "      <th>account_length</th>\n",
       "      <th>area_code</th>\n",
       "      <th>international_plan</th>\n",
       "      <th>voice_mail_plan</th>\n",
       "      <th>number_vmail_messages</th>\n",
       "      <th>total_day_minutes</th>\n",
       "      <th>total_day_calls</th>\n",
       "      <th>total_day_charge</th>\n",
       "      <th>total_eve_minutes</th>\n",
       "      <th>total_eve_calls</th>\n",
       "      <th>total_eve_charge</th>\n",
       "      <th>total_night_minutes</th>\n",
       "      <th>total_night_calls</th>\n",
       "      <th>total_night_charge</th>\n",
       "      <th>total_intl_minutes</th>\n",
       "      <th>total_intl_calls</th>\n",
       "      <th>total_intl_charge</th>\n",
       "      <th>number_customer_service_calls</th>\n",
       "      <th>churn</th>\n",
       "    </tr>\n",
       "  </thead>\n",
       "  <tbody>\n",
       "    <tr>\n",
       "      <th>0</th>\n",
       "      <td>OH</td>\n",
       "      <td>107</td>\n",
       "      <td>area_code_415</td>\n",
       "      <td>no</td>\n",
       "      <td>yes</td>\n",
       "      <td>26</td>\n",
       "      <td>161.6</td>\n",
       "      <td>123</td>\n",
       "      <td>27.47</td>\n",
       "      <td>195.5</td>\n",
       "      <td>103</td>\n",
       "      <td>16.62</td>\n",
       "      <td>254.4</td>\n",
       "      <td>103</td>\n",
       "      <td>11.45</td>\n",
       "      <td>13.7</td>\n",
       "      <td>3</td>\n",
       "      <td>3.70</td>\n",
       "      <td>1</td>\n",
       "      <td>no</td>\n",
       "    </tr>\n",
       "    <tr>\n",
       "      <th>1</th>\n",
       "      <td>NJ</td>\n",
       "      <td>137</td>\n",
       "      <td>area_code_415</td>\n",
       "      <td>no</td>\n",
       "      <td>no</td>\n",
       "      <td>0</td>\n",
       "      <td>243.4</td>\n",
       "      <td>114</td>\n",
       "      <td>41.38</td>\n",
       "      <td>121.2</td>\n",
       "      <td>110</td>\n",
       "      <td>10.30</td>\n",
       "      <td>162.6</td>\n",
       "      <td>104</td>\n",
       "      <td>7.32</td>\n",
       "      <td>12.2</td>\n",
       "      <td>5</td>\n",
       "      <td>3.29</td>\n",
       "      <td>0</td>\n",
       "      <td>no</td>\n",
       "    </tr>\n",
       "    <tr>\n",
       "      <th>2</th>\n",
       "      <td>OH</td>\n",
       "      <td>84</td>\n",
       "      <td>area_code_408</td>\n",
       "      <td>yes</td>\n",
       "      <td>no</td>\n",
       "      <td>0</td>\n",
       "      <td>299.4</td>\n",
       "      <td>71</td>\n",
       "      <td>50.90</td>\n",
       "      <td>61.9</td>\n",
       "      <td>88</td>\n",
       "      <td>5.26</td>\n",
       "      <td>196.9</td>\n",
       "      <td>89</td>\n",
       "      <td>8.86</td>\n",
       "      <td>6.6</td>\n",
       "      <td>7</td>\n",
       "      <td>1.78</td>\n",
       "      <td>2</td>\n",
       "      <td>no</td>\n",
       "    </tr>\n",
       "    <tr>\n",
       "      <th>3</th>\n",
       "      <td>OK</td>\n",
       "      <td>75</td>\n",
       "      <td>area_code_415</td>\n",
       "      <td>yes</td>\n",
       "      <td>no</td>\n",
       "      <td>0</td>\n",
       "      <td>166.7</td>\n",
       "      <td>113</td>\n",
       "      <td>28.34</td>\n",
       "      <td>148.3</td>\n",
       "      <td>122</td>\n",
       "      <td>12.61</td>\n",
       "      <td>186.9</td>\n",
       "      <td>121</td>\n",
       "      <td>8.41</td>\n",
       "      <td>10.1</td>\n",
       "      <td>3</td>\n",
       "      <td>2.73</td>\n",
       "      <td>3</td>\n",
       "      <td>no</td>\n",
       "    </tr>\n",
       "    <tr>\n",
       "      <th>4</th>\n",
       "      <td>MA</td>\n",
       "      <td>121</td>\n",
       "      <td>area_code_510</td>\n",
       "      <td>no</td>\n",
       "      <td>yes</td>\n",
       "      <td>24</td>\n",
       "      <td>218.2</td>\n",
       "      <td>88</td>\n",
       "      <td>37.09</td>\n",
       "      <td>348.5</td>\n",
       "      <td>108</td>\n",
       "      <td>29.62</td>\n",
       "      <td>212.6</td>\n",
       "      <td>118</td>\n",
       "      <td>9.57</td>\n",
       "      <td>7.5</td>\n",
       "      <td>7</td>\n",
       "      <td>2.03</td>\n",
       "      <td>3</td>\n",
       "      <td>no</td>\n",
       "    </tr>\n",
       "  </tbody>\n",
       "</table>\n",
       "</div>"
      ],
      "text/plain": [
       "  state  account_length      area_code international_plan voice_mail_plan  \\\n",
       "0    OH             107  area_code_415                 no             yes   \n",
       "1    NJ             137  area_code_415                 no              no   \n",
       "2    OH              84  area_code_408                yes              no   \n",
       "3    OK              75  area_code_415                yes              no   \n",
       "4    MA             121  area_code_510                 no             yes   \n",
       "\n",
       "   number_vmail_messages  total_day_minutes  total_day_calls  \\\n",
       "0                     26              161.6              123   \n",
       "1                      0              243.4              114   \n",
       "2                      0              299.4               71   \n",
       "3                      0              166.7              113   \n",
       "4                     24              218.2               88   \n",
       "\n",
       "   total_day_charge  total_eve_minutes  total_eve_calls  total_eve_charge  \\\n",
       "0             27.47              195.5              103             16.62   \n",
       "1             41.38              121.2              110             10.30   \n",
       "2             50.90               61.9               88              5.26   \n",
       "3             28.34              148.3              122             12.61   \n",
       "4             37.09              348.5              108             29.62   \n",
       "\n",
       "   total_night_minutes  total_night_calls  total_night_charge  \\\n",
       "0                254.4                103               11.45   \n",
       "1                162.6                104                7.32   \n",
       "2                196.9                 89                8.86   \n",
       "3                186.9                121                8.41   \n",
       "4                212.6                118                9.57   \n",
       "\n",
       "   total_intl_minutes  total_intl_calls  total_intl_charge  \\\n",
       "0                13.7                 3               3.70   \n",
       "1                12.2                 5               3.29   \n",
       "2                 6.6                 7               1.78   \n",
       "3                10.1                 3               2.73   \n",
       "4                 7.5                 7               2.03   \n",
       "\n",
       "   number_customer_service_calls churn  \n",
       "0                              1    no  \n",
       "1                              0    no  \n",
       "2                              2    no  \n",
       "3                              3    no  \n",
       "4                              3    no  "
      ]
     },
     "execution_count": 233,
     "metadata": {},
     "output_type": "execute_result"
    }
   ],
   "source": [
    "# check first 5 rows of the train_data set\n",
    "train_data.head()"
   ]
  },
  {
   "cell_type": "code",
   "execution_count": 234,
   "metadata": {},
   "outputs": [
    {
     "data": {
      "text/html": [
       "<div>\n",
       "<style scoped>\n",
       "    .dataframe tbody tr th:only-of-type {\n",
       "        vertical-align: middle;\n",
       "    }\n",
       "\n",
       "    .dataframe tbody tr th {\n",
       "        vertical-align: top;\n",
       "    }\n",
       "\n",
       "    .dataframe thead th {\n",
       "        text-align: right;\n",
       "    }\n",
       "</style>\n",
       "<table border=\"1\" class=\"dataframe\">\n",
       "  <thead>\n",
       "    <tr style=\"text-align: right;\">\n",
       "      <th></th>\n",
       "      <th>id</th>\n",
       "      <th>state</th>\n",
       "      <th>account_length</th>\n",
       "      <th>area_code</th>\n",
       "      <th>international_plan</th>\n",
       "      <th>voice_mail_plan</th>\n",
       "      <th>number_vmail_messages</th>\n",
       "      <th>total_day_minutes</th>\n",
       "      <th>total_day_calls</th>\n",
       "      <th>total_day_charge</th>\n",
       "      <th>total_eve_minutes</th>\n",
       "      <th>total_eve_calls</th>\n",
       "      <th>total_eve_charge</th>\n",
       "      <th>total_night_minutes</th>\n",
       "      <th>total_night_calls</th>\n",
       "      <th>total_night_charge</th>\n",
       "      <th>total_intl_minutes</th>\n",
       "      <th>total_intl_calls</th>\n",
       "      <th>total_intl_charge</th>\n",
       "      <th>number_customer_service_calls</th>\n",
       "    </tr>\n",
       "  </thead>\n",
       "  <tbody>\n",
       "    <tr>\n",
       "      <th>0</th>\n",
       "      <td>1</td>\n",
       "      <td>KS</td>\n",
       "      <td>128</td>\n",
       "      <td>area_code_415</td>\n",
       "      <td>no</td>\n",
       "      <td>yes</td>\n",
       "      <td>25</td>\n",
       "      <td>265.1</td>\n",
       "      <td>110</td>\n",
       "      <td>45.07</td>\n",
       "      <td>197.4</td>\n",
       "      <td>99</td>\n",
       "      <td>16.78</td>\n",
       "      <td>244.7</td>\n",
       "      <td>91</td>\n",
       "      <td>11.01</td>\n",
       "      <td>10.0</td>\n",
       "      <td>3</td>\n",
       "      <td>2.70</td>\n",
       "      <td>1</td>\n",
       "    </tr>\n",
       "    <tr>\n",
       "      <th>1</th>\n",
       "      <td>2</td>\n",
       "      <td>AL</td>\n",
       "      <td>118</td>\n",
       "      <td>area_code_510</td>\n",
       "      <td>yes</td>\n",
       "      <td>no</td>\n",
       "      <td>0</td>\n",
       "      <td>223.4</td>\n",
       "      <td>98</td>\n",
       "      <td>37.98</td>\n",
       "      <td>220.6</td>\n",
       "      <td>101</td>\n",
       "      <td>18.75</td>\n",
       "      <td>203.9</td>\n",
       "      <td>118</td>\n",
       "      <td>9.18</td>\n",
       "      <td>6.3</td>\n",
       "      <td>6</td>\n",
       "      <td>1.70</td>\n",
       "      <td>0</td>\n",
       "    </tr>\n",
       "    <tr>\n",
       "      <th>2</th>\n",
       "      <td>3</td>\n",
       "      <td>IA</td>\n",
       "      <td>62</td>\n",
       "      <td>area_code_415</td>\n",
       "      <td>no</td>\n",
       "      <td>no</td>\n",
       "      <td>0</td>\n",
       "      <td>120.7</td>\n",
       "      <td>70</td>\n",
       "      <td>20.52</td>\n",
       "      <td>307.2</td>\n",
       "      <td>76</td>\n",
       "      <td>26.11</td>\n",
       "      <td>203.0</td>\n",
       "      <td>99</td>\n",
       "      <td>9.14</td>\n",
       "      <td>13.1</td>\n",
       "      <td>6</td>\n",
       "      <td>3.54</td>\n",
       "      <td>4</td>\n",
       "    </tr>\n",
       "    <tr>\n",
       "      <th>3</th>\n",
       "      <td>4</td>\n",
       "      <td>VT</td>\n",
       "      <td>93</td>\n",
       "      <td>area_code_510</td>\n",
       "      <td>no</td>\n",
       "      <td>no</td>\n",
       "      <td>0</td>\n",
       "      <td>190.7</td>\n",
       "      <td>114</td>\n",
       "      <td>32.42</td>\n",
       "      <td>218.2</td>\n",
       "      <td>111</td>\n",
       "      <td>18.55</td>\n",
       "      <td>129.6</td>\n",
       "      <td>121</td>\n",
       "      <td>5.83</td>\n",
       "      <td>8.1</td>\n",
       "      <td>3</td>\n",
       "      <td>2.19</td>\n",
       "      <td>3</td>\n",
       "    </tr>\n",
       "    <tr>\n",
       "      <th>4</th>\n",
       "      <td>5</td>\n",
       "      <td>NE</td>\n",
       "      <td>174</td>\n",
       "      <td>area_code_415</td>\n",
       "      <td>no</td>\n",
       "      <td>no</td>\n",
       "      <td>0</td>\n",
       "      <td>124.3</td>\n",
       "      <td>76</td>\n",
       "      <td>21.13</td>\n",
       "      <td>277.1</td>\n",
       "      <td>112</td>\n",
       "      <td>23.55</td>\n",
       "      <td>250.7</td>\n",
       "      <td>115</td>\n",
       "      <td>11.28</td>\n",
       "      <td>15.5</td>\n",
       "      <td>5</td>\n",
       "      <td>4.19</td>\n",
       "      <td>3</td>\n",
       "    </tr>\n",
       "  </tbody>\n",
       "</table>\n",
       "</div>"
      ],
      "text/plain": [
       "   id state  account_length      area_code international_plan voice_mail_plan  \\\n",
       "0   1    KS             128  area_code_415                 no             yes   \n",
       "1   2    AL             118  area_code_510                yes              no   \n",
       "2   3    IA              62  area_code_415                 no              no   \n",
       "3   4    VT              93  area_code_510                 no              no   \n",
       "4   5    NE             174  area_code_415                 no              no   \n",
       "\n",
       "   number_vmail_messages  total_day_minutes  total_day_calls  \\\n",
       "0                     25              265.1              110   \n",
       "1                      0              223.4               98   \n",
       "2                      0              120.7               70   \n",
       "3                      0              190.7              114   \n",
       "4                      0              124.3               76   \n",
       "\n",
       "   total_day_charge  total_eve_minutes  total_eve_calls  total_eve_charge  \\\n",
       "0             45.07              197.4               99             16.78   \n",
       "1             37.98              220.6              101             18.75   \n",
       "2             20.52              307.2               76             26.11   \n",
       "3             32.42              218.2              111             18.55   \n",
       "4             21.13              277.1              112             23.55   \n",
       "\n",
       "   total_night_minutes  total_night_calls  total_night_charge  \\\n",
       "0                244.7                 91               11.01   \n",
       "1                203.9                118                9.18   \n",
       "2                203.0                 99                9.14   \n",
       "3                129.6                121                5.83   \n",
       "4                250.7                115               11.28   \n",
       "\n",
       "   total_intl_minutes  total_intl_calls  total_intl_charge  \\\n",
       "0                10.0                 3               2.70   \n",
       "1                 6.3                 6               1.70   \n",
       "2                13.1                 6               3.54   \n",
       "3                 8.1                 3               2.19   \n",
       "4                15.5                 5               4.19   \n",
       "\n",
       "   number_customer_service_calls  \n",
       "0                              1  \n",
       "1                              0  \n",
       "2                              4  \n",
       "3                              3  \n",
       "4                              3  "
      ]
     },
     "execution_count": 234,
     "metadata": {},
     "output_type": "execute_result"
    }
   ],
   "source": [
    "# check first 5 rows of the test_data set\n",
    "test_data.head()"
   ]
  },
  {
   "cell_type": "code",
   "execution_count": 235,
   "metadata": {},
   "outputs": [
    {
     "data": {
      "text/html": [
       "<div>\n",
       "<style scoped>\n",
       "    .dataframe tbody tr th:only-of-type {\n",
       "        vertical-align: middle;\n",
       "    }\n",
       "\n",
       "    .dataframe tbody tr th {\n",
       "        vertical-align: top;\n",
       "    }\n",
       "\n",
       "    .dataframe thead th {\n",
       "        text-align: right;\n",
       "    }\n",
       "</style>\n",
       "<table border=\"1\" class=\"dataframe\">\n",
       "  <thead>\n",
       "    <tr style=\"text-align: right;\">\n",
       "      <th></th>\n",
       "      <th>id</th>\n",
       "      <th>churn</th>\n",
       "    </tr>\n",
       "  </thead>\n",
       "  <tbody>\n",
       "    <tr>\n",
       "      <th>0</th>\n",
       "      <td>1</td>\n",
       "      <td>yes</td>\n",
       "    </tr>\n",
       "    <tr>\n",
       "      <th>1</th>\n",
       "      <td>2</td>\n",
       "      <td>no</td>\n",
       "    </tr>\n",
       "    <tr>\n",
       "      <th>2</th>\n",
       "      <td>3</td>\n",
       "      <td>no</td>\n",
       "    </tr>\n",
       "    <tr>\n",
       "      <th>3</th>\n",
       "      <td>4</td>\n",
       "      <td>yes</td>\n",
       "    </tr>\n",
       "    <tr>\n",
       "      <th>4</th>\n",
       "      <td>5</td>\n",
       "      <td>yes</td>\n",
       "    </tr>\n",
       "  </tbody>\n",
       "</table>\n",
       "</div>"
      ],
      "text/plain": [
       "   id churn\n",
       "0   1   yes\n",
       "1   2    no\n",
       "2   3    no\n",
       "3   4   yes\n",
       "4   5   yes"
      ]
     },
     "execution_count": 235,
     "metadata": {},
     "output_type": "execute_result"
    }
   ],
   "source": [
    "# check first 5 rows of the submission_template set\n",
    "submission_template.head()"
   ]
  },
  {
   "cell_type": "markdown",
   "metadata": {},
   "source": [
    "##### 3. Data Preprocessing"
   ]
  },
  {
   "cell_type": "markdown",
   "metadata": {},
   "source": [
    "##### Handling Missing Values: Identify and handle any missing or null values in the dataset (e.g., imputation or removal).\n",
    "##### Encoding Categorical Variables: Convert categorical variables such as state, international_plan, and voice_mail_plan into numerical format using one-hot encoding or label encoding.\n",
    "##### Scaling Features: Standardize or normalize numerical features to ensure equal scale (e.g., total_day_minutes, number_vmail_messages).\n",
    "##### Feature Engineering: Create new features if needed, such as combining certain features that might be correlated or useful for prediction."
   ]
  },
  {
   "cell_type": "code",
   "execution_count": 236,
   "metadata": {},
   "outputs": [
    {
     "name": "stdout",
     "output_type": "stream",
     "text": [
      "<class 'pandas.core.frame.DataFrame'>\n",
      "RangeIndex: 4250 entries, 0 to 4249\n",
      "Data columns (total 20 columns):\n",
      " #   Column                         Non-Null Count  Dtype  \n",
      "---  ------                         --------------  -----  \n",
      " 0   state                          4250 non-null   object \n",
      " 1   account_length                 4250 non-null   int64  \n",
      " 2   area_code                      4250 non-null   object \n",
      " 3   international_plan             4250 non-null   object \n",
      " 4   voice_mail_plan                4250 non-null   object \n",
      " 5   number_vmail_messages          4250 non-null   int64  \n",
      " 6   total_day_minutes              4250 non-null   float64\n",
      " 7   total_day_calls                4250 non-null   int64  \n",
      " 8   total_day_charge               4250 non-null   float64\n",
      " 9   total_eve_minutes              4250 non-null   float64\n",
      " 10  total_eve_calls                4250 non-null   int64  \n",
      " 11  total_eve_charge               4250 non-null   float64\n",
      " 12  total_night_minutes            4250 non-null   float64\n",
      " 13  total_night_calls              4250 non-null   int64  \n",
      " 14  total_night_charge             4250 non-null   float64\n",
      " 15  total_intl_minutes             4250 non-null   float64\n",
      " 16  total_intl_calls               4250 non-null   int64  \n",
      " 17  total_intl_charge              4250 non-null   float64\n",
      " 18  number_customer_service_calls  4250 non-null   int64  \n",
      " 19  churn                          4250 non-null   object \n",
      "dtypes: float64(8), int64(7), object(5)\n",
      "memory usage: 664.2+ KB\n"
     ]
    }
   ],
   "source": [
    "# get basic information about the dataset\n",
    "train_data.info()"
   ]
  },
  {
   "cell_type": "code",
   "execution_count": 237,
   "metadata": {},
   "outputs": [
    {
     "name": "stdout",
     "output_type": "stream",
     "text": [
      "state                            0\n",
      "account_length                   0\n",
      "area_code                        0\n",
      "international_plan               0\n",
      "voice_mail_plan                  0\n",
      "number_vmail_messages            0\n",
      "total_day_minutes                0\n",
      "total_day_calls                  0\n",
      "total_day_charge                 0\n",
      "total_eve_minutes                0\n",
      "total_eve_calls                  0\n",
      "total_eve_charge                 0\n",
      "total_night_minutes              0\n",
      "total_night_calls                0\n",
      "total_night_charge               0\n",
      "total_intl_minutes               0\n",
      "total_intl_calls                 0\n",
      "total_intl_charge                0\n",
      "number_customer_service_calls    0\n",
      "churn                            0\n",
      "dtype: int64\n"
     ]
    }
   ],
   "source": [
    "# check for missing values in the train dataset\n",
    "print(train_data.isnull().sum())"
   ]
  },
  {
   "cell_type": "code",
   "execution_count": 238,
   "metadata": {},
   "outputs": [
    {
     "name": "stdout",
     "output_type": "stream",
     "text": [
      "0\n"
     ]
    }
   ],
   "source": [
    "# check for duplicates\n",
    "print(train_data.duplicated().sum())"
   ]
  },
  {
   "cell_type": "code",
   "execution_count": 239,
   "metadata": {},
   "outputs": [
    {
     "name": "stdout",
     "output_type": "stream",
     "text": [
      "['no' 'yes']\n",
      "['yes' 'no']\n"
     ]
    }
   ],
   "source": [
    "# check unique values for columns international_plan and voice_mail_plan\n",
    "print(train_data['international_plan'].unique())\n",
    "print(train_data['voice_mail_plan'].unique())\n"
   ]
  },
  {
   "cell_type": "markdown",
   "metadata": {},
   "source": [
    "##### Convert categorical columns to numerical columns so the model can process the data."
   ]
  },
  {
   "cell_type": "code",
   "execution_count": 240,
   "metadata": {},
   "outputs": [
    {
     "name": "stdout",
     "output_type": "stream",
     "text": [
      "state                             object\n",
      "account_length                     int64\n",
      "area_code                         object\n",
      "international_plan                 int64\n",
      "voice_mail_plan                    int64\n",
      "number_vmail_messages              int64\n",
      "total_day_minutes                float64\n",
      "total_day_calls                    int64\n",
      "total_day_charge                 float64\n",
      "total_eve_minutes                float64\n",
      "total_eve_calls                    int64\n",
      "total_eve_charge                 float64\n",
      "total_night_minutes              float64\n",
      "total_night_calls                  int64\n",
      "total_night_charge               float64\n",
      "total_intl_minutes               float64\n",
      "total_intl_calls                   int64\n",
      "total_intl_charge                float64\n",
      "number_customer_service_calls      int64\n",
      "churn                              int64\n",
      "dtype: object\n"
     ]
    },
    {
     "name": "stderr",
     "output_type": "stream",
     "text": [
      "/var/folders/qk/q0fv26q13m760q3ch0fljs240000gn/T/ipykernel_39167/2305525805.py:2: FutureWarning: Downcasting behavior in `replace` is deprecated and will be removed in a future version. To retain the old behavior, explicitly call `result.infer_objects(copy=False)`. To opt-in to the future behavior, set `pd.set_option('future.no_silent_downcasting', True)`\n",
      "  train_data['international_plan'] = train_data['international_plan'].replace({'no': 0, 'yes': 1})\n",
      "/var/folders/qk/q0fv26q13m760q3ch0fljs240000gn/T/ipykernel_39167/2305525805.py:3: FutureWarning: Downcasting behavior in `replace` is deprecated and will be removed in a future version. To retain the old behavior, explicitly call `result.infer_objects(copy=False)`. To opt-in to the future behavior, set `pd.set_option('future.no_silent_downcasting', True)`\n",
      "  train_data['voice_mail_plan'] = train_data['voice_mail_plan'].replace({'no': 0, 'yes': 1})\n",
      "/var/folders/qk/q0fv26q13m760q3ch0fljs240000gn/T/ipykernel_39167/2305525805.py:4: FutureWarning: Downcasting behavior in `replace` is deprecated and will be removed in a future version. To retain the old behavior, explicitly call `result.infer_objects(copy=False)`. To opt-in to the future behavior, set `pd.set_option('future.no_silent_downcasting', True)`\n",
      "  train_data['churn'] = train_data['churn'].replace({'no': 0, 'yes': 1})\n"
     ]
    }
   ],
   "source": [
    "# Replace 'no' with 0 and 'yes' with 1\n",
    "train_data['international_plan'] = train_data['international_plan'].replace({'no': 0, 'yes': 1})\n",
    "train_data['voice_mail_plan'] = train_data['voice_mail_plan'].replace({'no': 0, 'yes': 1})\n",
    "train_data['churn'] = train_data['churn'].replace({'no': 0, 'yes': 1})\n",
    "\n",
    "# Convert the columns to integer type\n",
    "train_data['international_plan'] = train_data['international_plan'].astype(int)\n",
    "train_data['voice_mail_plan'] = train_data['voice_mail_plan'].astype(int)\n",
    "train_data['churn'] = train_data['churn'].astype(int)\n",
    "\n",
    "# Check the data types to confirm the conversion\n",
    "print(train_data.dtypes)"
   ]
  },
  {
   "cell_type": "markdown",
   "metadata": {},
   "source": [
    "##### Group by State to see Customers with International_plan and Customers with Voice_mail_plan."
   ]
  },
  {
   "cell_type": "code",
   "execution_count": 241,
   "metadata": {},
   "outputs": [
    {
     "data": {
      "text/html": [
       "<div>\n",
       "<style scoped>\n",
       "    .dataframe tbody tr th:only-of-type {\n",
       "        vertical-align: middle;\n",
       "    }\n",
       "\n",
       "    .dataframe tbody tr th {\n",
       "        vertical-align: top;\n",
       "    }\n",
       "\n",
       "    .dataframe thead th {\n",
       "        text-align: right;\n",
       "    }\n",
       "</style>\n",
       "<table border=\"1\" class=\"dataframe\">\n",
       "  <thead>\n",
       "    <tr style=\"text-align: right;\">\n",
       "      <th></th>\n",
       "      <th>state</th>\n",
       "      <th>Count</th>\n",
       "    </tr>\n",
       "  </thead>\n",
       "  <tbody>\n",
       "    <tr>\n",
       "      <th>0</th>\n",
       "      <td>AK</td>\n",
       "      <td>61</td>\n",
       "    </tr>\n",
       "    <tr>\n",
       "      <th>1</th>\n",
       "      <td>AL</td>\n",
       "      <td>101</td>\n",
       "    </tr>\n",
       "    <tr>\n",
       "      <th>2</th>\n",
       "      <td>AR</td>\n",
       "      <td>71</td>\n",
       "    </tr>\n",
       "    <tr>\n",
       "      <th>3</th>\n",
       "      <td>AZ</td>\n",
       "      <td>77</td>\n",
       "    </tr>\n",
       "    <tr>\n",
       "      <th>4</th>\n",
       "      <td>CA</td>\n",
       "      <td>39</td>\n",
       "    </tr>\n",
       "  </tbody>\n",
       "</table>\n",
       "</div>"
      ],
      "text/plain": [
       "  state  Count\n",
       "0    AK     61\n",
       "1    AL    101\n",
       "2    AR     71\n",
       "3    AZ     77\n",
       "4    CA     39"
      ]
     },
     "execution_count": 241,
     "metadata": {},
     "output_type": "execute_result"
    }
   ],
   "source": [
    "# group customers by state\n",
    "customers_by_state = train_data.groupby('state').size().reset_index(name='Count')\n",
    "customers_by_state. head()"
   ]
  },
  {
   "cell_type": "code",
   "execution_count": 242,
   "metadata": {},
   "outputs": [
    {
     "data": {
      "image/png": "[encoded data removed]",
      "text/plain": [
       "<Figure size 1200x600 with 1 Axes>"
      ]
     },
     "metadata": {},
     "output_type": "display_data"
    }
   ],
   "source": [
    "# sort the data in descending order by 'Count'\n",
    "customers_by_state_sorted = customers_by_state.sort_values(by='Count', ascending=False)\n",
    "# create a bar plot\n",
    "plt.figure(figsize=(12, 6))\n",
    "sns.barplot(x='state', y='Count', data=customers_by_state_sorted, color='skyblue')\n",
    "\n",
    "plt.xlabel('state')\n",
    "plt.ylabel('Number of Customers')\n",
    "plt.title('Customers by State')\n",
    "plt.tight_layout()  # adjust layout to fit labels\n",
    "plt.show()"
   ]
  },
  {
   "cell_type": "code",
   "execution_count": 243,
   "metadata": {},
   "outputs": [
    {
     "data": {
      "text/html": [
       "<div>\n",
       "<style scoped>\n",
       "    .dataframe tbody tr th:only-of-type {\n",
       "        vertical-align: middle;\n",
       "    }\n",
       "\n",
       "    .dataframe tbody tr th {\n",
       "        vertical-align: top;\n",
       "    }\n",
       "\n",
       "    .dataframe thead th {\n",
       "        text-align: right;\n",
       "    }\n",
       "</style>\n",
       "<table border=\"1\" class=\"dataframe\">\n",
       "  <thead>\n",
       "    <tr style=\"text-align: right;\">\n",
       "      <th></th>\n",
       "      <th>international_plan</th>\n",
       "      <th>Count</th>\n",
       "    </tr>\n",
       "  </thead>\n",
       "  <tbody>\n",
       "    <tr>\n",
       "      <th>0</th>\n",
       "      <td>0</td>\n",
       "      <td>3854</td>\n",
       "    </tr>\n",
       "    <tr>\n",
       "      <th>1</th>\n",
       "      <td>1</td>\n",
       "      <td>396</td>\n",
       "    </tr>\n",
       "  </tbody>\n",
       "</table>\n",
       "</div>"
      ],
      "text/plain": [
       "   international_plan  Count\n",
       "0                   0   3854\n",
       "1                   1    396"
      ]
     },
     "execution_count": 243,
     "metadata": {},
     "output_type": "execute_result"
    }
   ],
   "source": [
    "# calculate customers with international plan\n",
    "customers_by_international_plan = train_data.groupby('international_plan').size().reset_index(name='Count')\n",
    "customers_by_international_plan"
   ]
  },
  {
   "cell_type": "code",
   "execution_count": 244,
   "metadata": {},
   "outputs": [
    {
     "data": {
      "text/html": [
       "<div>\n",
       "<style scoped>\n",
       "    .dataframe tbody tr th:only-of-type {\n",
       "        vertical-align: middle;\n",
       "    }\n",
       "\n",
       "    .dataframe tbody tr th {\n",
       "        vertical-align: top;\n",
       "    }\n",
       "\n",
       "    .dataframe thead th {\n",
       "        text-align: right;\n",
       "    }\n",
       "</style>\n",
       "<table border=\"1\" class=\"dataframe\">\n",
       "  <thead>\n",
       "    <tr style=\"text-align: right;\">\n",
       "      <th></th>\n",
       "      <th>voice_mail_plan</th>\n",
       "      <th>Count</th>\n",
       "    </tr>\n",
       "  </thead>\n",
       "  <tbody>\n",
       "    <tr>\n",
       "      <th>0</th>\n",
       "      <td>0</td>\n",
       "      <td>3138</td>\n",
       "    </tr>\n",
       "    <tr>\n",
       "      <th>1</th>\n",
       "      <td>1</td>\n",
       "      <td>1112</td>\n",
       "    </tr>\n",
       "  </tbody>\n",
       "</table>\n",
       "</div>"
      ],
      "text/plain": [
       "   voice_mail_plan  Count\n",
       "0                0   3138\n",
       "1                1   1112"
      ]
     },
     "execution_count": 244,
     "metadata": {},
     "output_type": "execute_result"
    }
   ],
   "source": [
    "# calculate customers with voice mail plan\n",
    "customers_by_voice_mail_plan = train_data.groupby('voice_mail_plan').size().reset_index(name='Count')\n",
    "customers_by_voice_mail_plan"
   ]
  },
  {
   "cell_type": "markdown",
   "metadata": {},
   "source": [
    "##### Comparison of International and Voice Mail Plans"
   ]
  },
  {
   "cell_type": "code",
   "execution_count": 245,
   "metadata": {},
   "outputs": [
    {
     "data": {
      "image/png": "[encoded data removed]",
      "text/plain": [
       "<Figure size 800x600 with 1 Axes>"
      ]
     },
     "metadata": {},
     "output_type": "display_data"
    }
   ],
   "source": [
    "# Function to aggregate counts by a given column\n",
    "def get_plan_counts(data, plan_column):\n",
    "    \"\"\"\n",
    "    Aggregates the count of customers grouped by the given plan column.\n",
    "    \n",
    "    Args:\n",
    "    - data (pd.DataFrame): The dataset containing the plan column.\n",
    "    - plan_column (str): The column name for the plan to be grouped by.\n",
    "    \n",
    "    Returns:\n",
    "    - list: A list of counts [No, Yes] for the given plan.\n",
    "    \"\"\"\n",
    "    counts = data.groupby(plan_column).size().reset_index(name='Count')\n",
    "    # Convert 'No' and 'Yes' into ordered list format\n",
    "    return counts.sort_values(plan_column)['Count'].tolist()\n",
    "\n",
    "# Function to create a combined bar plot\n",
    "def plot_combined_plan_counts(data, international_col, voicemail_col):\n",
    "    \"\"\"\n",
    "    Plots a combined bar chart for two plans grouped by 'Yes' and 'No'.\n",
    "    \n",
    "    Args:\n",
    "    - data (pd.DataFrame): The dataset containing the plans.\n",
    "    - international_col (str): The column name for the international plan.\n",
    "    - voicemail_col (str): The column name for the voice mail plan.\n",
    "    \"\"\"\n",
    "    # Get counts for both plans\n",
    "    international_counts = get_plan_counts(data, international_col)\n",
    "    voicemail_counts = get_plan_counts(data, voicemail_col)\n",
    "\n",
    "    # Labels and positions\n",
    "    labels = ['No', 'Yes']\n",
    "    x = np.arange(len(labels))\n",
    "    bar_width = 0.35\n",
    "\n",
    "    # Plot\n",
    "    fig, ax = plt.subplots(figsize=(8, 6))\n",
    "    bars1 = ax.bar(x - bar_width / 2, international_counts, bar_width, label='International Plan', color='blue')\n",
    "    bars2 = ax.bar(x + bar_width / 2, voicemail_counts, bar_width, label='Voice Mail Plan', color='orange')\n",
    "\n",
    "    # Add labels, title, and legend\n",
    "    ax.set_xlabel('Plan Subscription (Yes/No)')\n",
    "    ax.set_ylabel('Number of Customers')\n",
    "    ax.set_title('Comparison of International and Voice Mail Plans')\n",
    "    ax.set_xticks(x)\n",
    "    ax.set_xticklabels(labels)\n",
    "    ax.legend()\n",
    "\n",
    "    # Annotate counts on bars\n",
    "    for bar in bars1:\n",
    "        height = bar.get_height()\n",
    "        ax.text(bar.get_x() + bar.get_width() / 2, height, f'{int(height)}', ha='center', va='bottom')\n",
    "    for bar in bars2:\n",
    "        height = bar.get_height()\n",
    "        ax.text(bar.get_x() + bar.get_width() / 2, height, f'{int(height)}', ha='center', va='bottom')\n",
    "\n",
    "    plt.tight_layout()\n",
    "    plt.show()\n",
    "\n",
    "# Plot combined plan counts\n",
    "plot_combined_plan_counts(train_data, 'international_plan', 'voice_mail_plan')"
   ]
  },
  {
   "cell_type": "markdown",
   "metadata": {},
   "source": [
    "##### Comparison by Plan for each State"
   ]
  },
  {
   "cell_type": "code",
   "execution_count": 246,
   "metadata": {},
   "outputs": [
    {
     "data": {
      "image/png": "[encoded data removed]",
      "text/plain": [
       "<Figure size 1200x600 with 1 Axes>"
      ]
     },
     "metadata": {},
     "output_type": "display_data"
    },
    {
     "data": {
      "image/png": "[encoded data removed]",
      "text/plain": [
       "<Figure size 1200x600 with 1 Axes>"
      ]
     },
     "metadata": {},
     "output_type": "display_data"
    }
   ],
   "source": [
    "# Function to filter and count customers with a specific plan by state\n",
    "def get_state_counts(data, plan_column, value):\n",
    "    \"\"\"\n",
    "    Filters the dataset for the specified value in the given plan column\n",
    "    and aggregates counts by state, sorted in descending order.\n",
    "    \n",
    "    Args:\n",
    "    - data (pd.DataFrame): The dataset containing the plan column and state column.\n",
    "    - plan_column (str): The column name for the plan to filter by.\n",
    "    - value (int): The value to filter the plan column by (1 for Yes, 0 for No).\n",
    "    \n",
    "    Returns:\n",
    "    - pd.DataFrame: A DataFrame with states and their respective counts, sorted in descending order.\n",
    "    \"\"\"\n",
    "    filtered_data = data[data[plan_column] == value]  # Keep only rows where the plan value matches\n",
    "    state_counts = (\n",
    "        filtered_data.groupby('state').size()\n",
    "        .reset_index(name='Count')\n",
    "        .sort_values(by='Count', ascending=False)  # Sort by count in descending order\n",
    "    )\n",
    "    return state_counts\n",
    "\n",
    "# Function to create a combined bar and line plot\n",
    "def plot_state_counts_with_line(data, plan_column, bar_color, line_color, plan_name):\n",
    "    \"\"\"\n",
    "    Creates a combined bar and line plot for a plan by state.\n",
    "    The bars represent 'Yes' (value 1), and the line represents 'No' (value 0).\n",
    "    \n",
    "    Args:\n",
    "    - data (pd.DataFrame): The dataset containing the plan column and state column.\n",
    "    - plan_column (str): The column name for the plan to plot.\n",
    "    - bar_color (str): The color of the bars for the 'Yes' counts.\n",
    "    - line_color (str): The color of the line for the 'No' counts.\n",
    "    - plan_name (str): The name of the plan for the plot title and legend.\n",
    "    \"\"\"\n",
    "    # Get counts for Yes (1) and No (0)\n",
    "    yes_counts = get_state_counts(data, plan_column, 1)\n",
    "    no_counts = get_state_counts(data, plan_column, 0)\n",
    "\n",
    "    # Merge to align Yes and No counts by state\n",
    "    combined_counts = pd.merge(yes_counts, no_counts, on='state', how='outer', suffixes=('_yes', '_no')).fillna(0)\n",
    "    combined_counts = combined_counts.sort_values(by='Count_yes', ascending=False)  # Sort by Yes counts\n",
    "\n",
    "    # Plot\n",
    "    plt.figure(figsize=(12, 6))\n",
    "    \n",
    "    # Bar plot for Yes counts\n",
    "    plt.bar(combined_counts['state'], combined_counts['Count_yes'], color=bar_color, label=f'{plan_name} - Yes')\n",
    "    \n",
    "    # Line plot for No counts\n",
    "    plt.plot(combined_counts['state'], combined_counts['Count_no'], color=line_color, label=f'{plan_name} - No', marker='o')\n",
    "\n",
    "    # Add labels, title, and legend\n",
    "    plt.xlabel('State')\n",
    "    plt.ylabel('Number of Customers')\n",
    "    plt.title(f'Number of Customers with {plan_name} by State (Yes vs No)')\n",
    "    plt.xticks(rotation=90)\n",
    "    plt.legend()\n",
    "    plt.tight_layout()\n",
    "    plt.show()\n",
    "\n",
    "# Plot for International Plan\n",
    "plot_state_counts_with_line(\n",
    "    train_data,\n",
    "    'international_plan',\n",
    "    bar_color='blue',\n",
    "    line_color='orange',\n",
    "    plan_name='International Plan'\n",
    ")\n",
    "\n",
    "# Plot for Voice Mail Plan\n",
    "plot_state_counts_with_line(\n",
    "    train_data,\n",
    "    'voice_mail_plan',\n",
    "    bar_color='orange',\n",
    "    line_color='blue',\n",
    "    plan_name='Voice Mail Plan'\n",
    ")"
   ]
  },
  {
   "cell_type": "markdown",
   "metadata": {},
   "source": [
    "##### Statistics of total minutes, total calls and total charge for each period of the day and international"
   ]
  },
  {
   "cell_type": "code",
   "execution_count": 247,
   "metadata": {},
   "outputs": [
    {
     "data": {
      "text/plain": [
       "count    4250.000000\n",
       "mean      180.259600\n",
       "std        54.012373\n",
       "min         0.000000\n",
       "25%       143.325000\n",
       "50%       180.450000\n",
       "75%       216.200000\n",
       "max       351.500000\n",
       "Name: total_day_minutes, dtype: float64"
      ]
     },
     "execution_count": 247,
     "metadata": {},
     "output_type": "execute_result"
    }
   ],
   "source": [
    "#statistics for day minutes\n",
    "train_data['total_day_minutes'].describe()"
   ]
  },
  {
   "cell_type": "code",
   "execution_count": 248,
   "metadata": {},
   "outputs": [
    {
     "data": {
      "text/plain": [
       "count    4250.000000\n",
       "mean       99.907294\n",
       "std        19.850817\n",
       "min         0.000000\n",
       "25%        87.000000\n",
       "50%       100.000000\n",
       "75%       113.000000\n",
       "max       165.000000\n",
       "Name: total_day_calls, dtype: float64"
      ]
     },
     "execution_count": 248,
     "metadata": {},
     "output_type": "execute_result"
    }
   ],
   "source": [
    "# statistics for day calls\n",
    "train_data['total_day_calls'].describe()"
   ]
  },
  {
   "cell_type": "code",
   "execution_count": 249,
   "metadata": {},
   "outputs": [
    {
     "data": {
      "text/plain": [
       "count    4250.000000\n",
       "mean       30.644682\n",
       "std         9.182096\n",
       "min         0.000000\n",
       "25%        24.365000\n",
       "50%        30.680000\n",
       "75%        36.750000\n",
       "max        59.760000\n",
       "Name: total_day_charge, dtype: float64"
      ]
     },
     "execution_count": 249,
     "metadata": {},
     "output_type": "execute_result"
    }
   ],
   "source": [
    "# statistics for day charge\n",
    "train_data['total_day_charge'].describe()"
   ]
  },
  {
   "cell_type": "code",
   "execution_count": 250,
   "metadata": {},
   "outputs": [
    {
     "data": {
      "text/plain": [
       "count    4250.000000\n",
       "mean      200.173906\n",
       "std        50.249518\n",
       "min         0.000000\n",
       "25%       165.925000\n",
       "50%       200.700000\n",
       "75%       233.775000\n",
       "max       359.300000\n",
       "Name: total_eve_minutes, dtype: float64"
      ]
     },
     "execution_count": 250,
     "metadata": {},
     "output_type": "execute_result"
    }
   ],
   "source": [
    "# statistics for evening minutes\n",
    "train_data['total_eve_minutes'].describe()"
   ]
  },
  {
   "cell_type": "code",
   "execution_count": 251,
   "metadata": {},
   "outputs": [
    {
     "data": {
      "text/plain": [
       "count    4250.000000\n",
       "mean      100.176471\n",
       "std        19.908591\n",
       "min         0.000000\n",
       "25%        87.000000\n",
       "50%       100.000000\n",
       "75%       114.000000\n",
       "max       170.000000\n",
       "Name: total_eve_calls, dtype: float64"
      ]
     },
     "execution_count": 251,
     "metadata": {},
     "output_type": "execute_result"
    }
   ],
   "source": [
    "# statistics for evening calls\n",
    "train_data['total_eve_calls'].describe()"
   ]
  },
  {
   "cell_type": "code",
   "execution_count": 252,
   "metadata": {},
   "outputs": [
    {
     "data": {
      "text/plain": [
       "count    4250.000000\n",
       "mean       17.015012\n",
       "std         4.271212\n",
       "min         0.000000\n",
       "25%        14.102500\n",
       "50%        17.060000\n",
       "75%        19.867500\n",
       "max        30.540000\n",
       "Name: total_eve_charge, dtype: float64"
      ]
     },
     "execution_count": 252,
     "metadata": {},
     "output_type": "execute_result"
    }
   ],
   "source": [
    "# statistics for evening charge\n",
    "train_data['total_eve_charge'].describe()"
   ]
  },
  {
   "cell_type": "code",
   "execution_count": 253,
   "metadata": {},
   "outputs": [
    {
     "data": {
      "text/plain": [
       "count    4250.000000\n",
       "mean      200.527882\n",
       "std        50.353548\n",
       "min         0.000000\n",
       "25%       167.225000\n",
       "50%       200.450000\n",
       "75%       234.700000\n",
       "max       395.000000\n",
       "Name: total_night_minutes, dtype: float64"
      ]
     },
     "execution_count": 253,
     "metadata": {},
     "output_type": "execute_result"
    }
   ],
   "source": [
    "# statistics for night minutes\n",
    "train_data['total_night_minutes'].describe()"
   ]
  },
  {
   "cell_type": "code",
   "execution_count": 254,
   "metadata": {},
   "outputs": [
    {
     "data": {
      "text/plain": [
       "count    4250.000000\n",
       "mean       99.839529\n",
       "std        20.093220\n",
       "min         0.000000\n",
       "25%        86.000000\n",
       "50%       100.000000\n",
       "75%       113.000000\n",
       "max       175.000000\n",
       "Name: total_night_calls, dtype: float64"
      ]
     },
     "execution_count": 254,
     "metadata": {},
     "output_type": "execute_result"
    }
   ],
   "source": [
    "# statistics for night calls\n",
    "train_data['total_night_calls'].describe()"
   ]
  },
  {
   "cell_type": "code",
   "execution_count": 255,
   "metadata": {},
   "outputs": [
    {
     "data": {
      "text/plain": [
       "count    4250.000000\n",
       "mean        9.023892\n",
       "std         2.265922\n",
       "min         0.000000\n",
       "25%         7.522500\n",
       "50%         9.020000\n",
       "75%        10.560000\n",
       "max        17.770000\n",
       "Name: total_night_charge, dtype: float64"
      ]
     },
     "execution_count": 255,
     "metadata": {},
     "output_type": "execute_result"
    }
   ],
   "source": [
    "# statistis for night charge\n",
    "train_data['total_night_charge'].describe()"
   ]
  },
  {
   "cell_type": "code",
   "execution_count": 256,
   "metadata": {},
   "outputs": [
    {
     "data": {
      "text/plain": [
       "count    4250.000000\n",
       "mean       10.256071\n",
       "std         2.760102\n",
       "min         0.000000\n",
       "25%         8.500000\n",
       "50%        10.300000\n",
       "75%        12.000000\n",
       "max        20.000000\n",
       "Name: total_intl_minutes, dtype: float64"
      ]
     },
     "execution_count": 256,
     "metadata": {},
     "output_type": "execute_result"
    }
   ],
   "source": [
    "# statistics for international minutes\n",
    "train_data['total_intl_minutes'].describe()"
   ]
  },
  {
   "cell_type": "code",
   "execution_count": 257,
   "metadata": {},
   "outputs": [
    {
     "data": {
      "text/plain": [
       "count    4250.000000\n",
       "mean        4.426353\n",
       "std         2.463069\n",
       "min         0.000000\n",
       "25%         3.000000\n",
       "50%         4.000000\n",
       "75%         6.000000\n",
       "max        20.000000\n",
       "Name: total_intl_calls, dtype: float64"
      ]
     },
     "execution_count": 257,
     "metadata": {},
     "output_type": "execute_result"
    }
   ],
   "source": [
    "# statistics for total international calls\n",
    "train_data['total_intl_calls'].describe()"
   ]
  },
  {
   "cell_type": "code",
   "execution_count": 258,
   "metadata": {},
   "outputs": [
    {
     "data": {
      "text/plain": [
       "count    4250.000000\n",
       "mean        2.769654\n",
       "std         0.745204\n",
       "min         0.000000\n",
       "25%         2.300000\n",
       "50%         2.780000\n",
       "75%         3.240000\n",
       "max         5.400000\n",
       "Name: total_intl_charge, dtype: float64"
      ]
     },
     "execution_count": 258,
     "metadata": {},
     "output_type": "execute_result"
    }
   ],
   "source": [
    "# statistics for international charge\n",
    "train_data['total_intl_charge'].describe()"
   ]
  },
  {
   "cell_type": "markdown",
   "metadata": {},
   "source": [
    "***"
   ]
  },
  {
   "cell_type": "code",
   "execution_count": 259,
   "metadata": {},
   "outputs": [
    {
     "name": "stdout",
     "output_type": "stream",
     "text": [
      "<class 'pandas.core.frame.DataFrame'>\n",
      "RangeIndex: 750 entries, 0 to 749\n",
      "Data columns (total 20 columns):\n",
      " #   Column                         Non-Null Count  Dtype  \n",
      "---  ------                         --------------  -----  \n",
      " 0   id                             750 non-null    int64  \n",
      " 1   state                          750 non-null    object \n",
      " 2   account_length                 750 non-null    int64  \n",
      " 3   area_code                      750 non-null    object \n",
      " 4   international_plan             750 non-null    object \n",
      " 5   voice_mail_plan                750 non-null    object \n",
      " 6   number_vmail_messages          750 non-null    int64  \n",
      " 7   total_day_minutes              750 non-null    float64\n",
      " 8   total_day_calls                750 non-null    int64  \n",
      " 9   total_day_charge               750 non-null    float64\n",
      " 10  total_eve_minutes              750 non-null    float64\n",
      " 11  total_eve_calls                750 non-null    int64  \n",
      " 12  total_eve_charge               750 non-null    float64\n",
      " 13  total_night_minutes            750 non-null    float64\n",
      " 14  total_night_calls              750 non-null    int64  \n",
      " 15  total_night_charge             750 non-null    float64\n",
      " 16  total_intl_minutes             750 non-null    float64\n",
      " 17  total_intl_calls               750 non-null    int64  \n",
      " 18  total_intl_charge              750 non-null    float64\n",
      " 19  number_customer_service_calls  750 non-null    int64  \n",
      "dtypes: float64(8), int64(8), object(4)\n",
      "memory usage: 117.3+ KB\n"
     ]
    }
   ],
   "source": [
    "test_data.info()"
   ]
  },
  {
   "cell_type": "code",
   "execution_count": 260,
   "metadata": {},
   "outputs": [
    {
     "name": "stdout",
     "output_type": "stream",
     "text": [
      "<class 'pandas.core.frame.DataFrame'>\n",
      "RangeIndex: 750 entries, 0 to 749\n",
      "Data columns (total 2 columns):\n",
      " #   Column  Non-Null Count  Dtype \n",
      "---  ------  --------------  ----- \n",
      " 0   id      750 non-null    int64 \n",
      " 1   churn   750 non-null    object\n",
      "dtypes: int64(1), object(1)\n",
      "memory usage: 11.8+ KB\n"
     ]
    }
   ],
   "source": [
    "submission_template.info()"
   ]
  },
  {
   "cell_type": "markdown",
   "metadata": {},
   "source": [
    "##### 4. Splitting the Data"
   ]
  },
  {
   "cell_type": "markdown",
   "metadata": {},
   "source": [
    "##### Training and Testing Split: Split the dataset into training and testing sets. Typically, a 70-30 or 80-20 split is used (70-80% for training, 20-30% for testing).\n",
    "##### Cross-Validation: Optionally, perform k-fold cross-validation to ensure the model generalizes well."
   ]
  },
  {
   "cell_type": "code",
   "execution_count": null,
   "metadata": {},
   "outputs": [],
   "source": []
  },
  {
   "cell_type": "markdown",
   "metadata": {},
   "source": [
    "##### 5. Model Selection"
   ]
  },
  {
   "cell_type": "markdown",
   "metadata": {},
   "source": [
    "##### Choose a machine learning model to predict customer churn. Some possible algorithms include:\n",
    "##### Logistic Regression: Good baseline for binary classification problems.\n",
    "##### Decision Trees: Intuitive model, can handle non-linear relationships.\n",
    "##### Random Forest: An ensemble method that builds multiple decision trees and combines their results.\n",
    "##### Support Vector Machines (SVM): Effective for high-dimensional datasets and binary classification.\n",
    "##### Gradient Boosting Machines (GBM): Powerful ensemble technique that can be highly effective for classification tasks."
   ]
  },
  {
   "cell_type": "code",
   "execution_count": null,
   "metadata": {},
   "outputs": [],
   "source": []
  },
  {
   "cell_type": "markdown",
   "metadata": {},
   "source": [
    "##### 6. Model Training"
   ]
  },
  {
   "cell_type": "markdown",
   "metadata": {},
   "source": [
    "##### Training the Model: Train the selected model on the training data.\n",
    "##### Hyperparameter Tuning: Use techniques like GridSearchCV or RandomizedSearchCV to optimize the model’s hyperparameters (e.g., learning rate, depth of decision trees).\n",
    "##### Feature Selection: Optionally, perform feature selection to identify the most important features that contribute to predicting churn.\n"
   ]
  },
  {
   "cell_type": "code",
   "execution_count": null,
   "metadata": {},
   "outputs": [],
   "source": []
  },
  {
   "cell_type": "markdown",
   "metadata": {},
   "source": [
    "##### 7. Model Evaluation"
   ]
  },
  {
   "cell_type": "markdown",
   "metadata": {},
   "source": [
    "##### Performance Metrics: Evaluate the model using accuracy, precision, recall, F1-score, and confusion matrix. Given that the target is binary (yes/no for churn), accuracy will be the primary evaluation metric.\n",
    "##### Overfitting and Underfitting: Check for overfitting (model performs well on training data but poorly on test data) and underfitting (model performs poorly on both).\n",
    "##### Cross-Validation Results: If cross-validation was used, check the performance across different folds."
   ]
  },
  {
   "cell_type": "code",
   "execution_count": null,
   "metadata": {},
   "outputs": [],
   "source": []
  },
  {
   "cell_type": "markdown",
   "metadata": {},
   "source": [
    "##### 8. Model Optimization"
   ]
  },
  {
   "cell_type": "markdown",
   "metadata": {},
   "source": [
    "##### Tuning: Adjust hyperparameters, possibly using techniques like cross-validation, and optimize the model’s performance.\n",
    "##### Ensemble Methods: Try combining different models (e.g., Random Forest + Gradient Boosting) to boost performance if necessary.\n"
   ]
  },
  {
   "cell_type": "code",
   "execution_count": null,
   "metadata": {},
   "outputs": [],
   "source": []
  },
  {
   "cell_type": "markdown",
   "metadata": {},
   "source": [
    "##### 9. Making Predictions"
   ]
  },
  {
   "cell_type": "markdown",
   "metadata": {},
   "source": [
    "##### Testing the Model: Once the model has been optimized, use it to make predictions on the test dataset.\n",
    "##### Output the Results: Generate the final predictions and save them to a file for submission or evaluation."
   ]
  },
  {
   "cell_type": "code",
   "execution_count": null,
   "metadata": {},
   "outputs": [],
   "source": []
  },
  {
   "cell_type": "markdown",
   "metadata": {},
   "source": []
  }
 ],
 "metadata": {
  "kernelspec": {
   "display_name": "base",
   "language": "python",
   "name": "python3"
  },
  "language_info": {
   "codemirror_mode": {
    "name": "ipython",
    "version": 3
   },
   "file_extension": ".py",
   "mimetype": "text/x-python",
   "name": "python",
   "nbconvert_exporter": "python",
   "pygments_lexer": "ipython3",
   "version": "3.11.7"
  }
 },
 "nbformat": 4,
 "nbformat_minor": 2
}
